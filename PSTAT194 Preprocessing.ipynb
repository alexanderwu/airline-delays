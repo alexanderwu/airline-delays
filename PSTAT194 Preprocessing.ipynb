{
 "cells": [
  {
   "cell_type": "markdown",
   "metadata": {},
   "source": [
    "# PSTAT 194 Final Project: Predicting Flight Delays\n",
    "## Team: Walk in the Spark\n",
    "* Andrew Zhang\n",
    "* Wendy Gao\n",
    "* Alex Wu\n",
    "* Shon Inouye"
   ]
  },
  {
   "cell_type": "markdown",
   "metadata": {},
   "source": [
    "# Preprocessing"
   ]
  },
  {
   "cell_type": "code",
   "execution_count": 1,
   "metadata": {
    "collapsed": false
   },
   "outputs": [],
   "source": [
    "import pandas as pd\n",
    "from matplotlib import pyplot as plt\n",
    "import numpy as np"
   ]
  },
  {
   "cell_type": "markdown",
   "metadata": {},
   "source": [
    "## Import dataset"
   ]
  },
  {
   "cell_type": "code",
   "execution_count": 2,
   "metadata": {
    "collapsed": false
   },
   "outputs": [
    {
     "name": "stderr",
     "output_type": "stream",
     "text": [
      "/usr/local/lib/python2.7/dist-packages/IPython/core/interactiveshell.py:2718: DtypeWarning: Columns (7,8) have mixed types. Specify dtype option on import or set low_memory=False.\n",
      "  interactivity=interactivity, compiler=compiler, result=result)\n"
     ]
    }
   ],
   "source": [
    "flights_df = pd.read_csv(\"/mnt/data/flights.csv\")"
   ]
  },
  {
   "cell_type": "code",
   "execution_count": 3,
   "metadata": {
    "collapsed": true
   },
   "outputs": [],
   "source": [
    "flights_df.index = pd.RangeIndex(len(flights_df.index))"
   ]
  },
  {
   "cell_type": "code",
   "execution_count": 4,
   "metadata": {
    "collapsed": false
   },
   "outputs": [
    {
     "data": {
      "text/plain": [
       "YEAR                         0\n",
       "MONTH                        0\n",
       "DAY                          0\n",
       "DAY_OF_WEEK                  0\n",
       "AIRLINE                      0\n",
       "FLIGHT_NUMBER                0\n",
       "TAIL_NUMBER              14721\n",
       "ORIGIN_AIRPORT               0\n",
       "DESTINATION_AIRPORT          0\n",
       "SCHEDULED_DEPARTURE          0\n",
       "DEPARTURE_TIME           86153\n",
       "DEPARTURE_DELAY          86153\n",
       "TAXI_OUT                 89047\n",
       "WHEELS_OFF               89047\n",
       "SCHEDULED_TIME               6\n",
       "ELAPSED_TIME            105071\n",
       "AIR_TIME                105071\n",
       "DISTANCE                     0\n",
       "WHEELS_ON                92513\n",
       "TAXI_IN                  92513\n",
       "SCHEDULED_ARRIVAL            0\n",
       "ARRIVAL_TIME             92513\n",
       "ARRIVAL_DELAY           105071\n",
       "DIVERTED                     0\n",
       "CANCELLED                    0\n",
       "CANCELLATION_REASON    5729195\n",
       "AIR_SYSTEM_DELAY       4755640\n",
       "SECURITY_DELAY         4755640\n",
       "AIRLINE_DELAY          4755640\n",
       "LATE_AIRCRAFT_DELAY    4755640\n",
       "WEATHER_DELAY          4755640\n",
       "dtype: int64"
      ]
     },
     "execution_count": 4,
     "metadata": {},
     "output_type": "execute_result"
    }
   ],
   "source": [
    "flights_df.isnull().sum()"
   ]
  },
  {
   "cell_type": "code",
   "execution_count": 5,
   "metadata": {
    "collapsed": false
   },
   "outputs": [],
   "source": [
    "flights_agg = flights_df[['MONTH','DAY','DAY_OF_WEEK','AIRLINE','ORIGIN_AIRPORT',\n",
    "                          'SCHEDULED_DEPARTURE','SCHEDULED_TIME',\n",
    "                          'DISTANCE','SCHEDULED_ARRIVAL','DEPARTURE_DELAY']].copy()\n",
    "flights_agg = flights_agg.dropna(axis=0, how = \"any\")"
   ]
  },
  {
   "cell_type": "code",
   "execution_count": 6,
   "metadata": {
    "collapsed": false
   },
   "outputs": [
    {
     "data": {
      "text/plain": [
       "MONTH                  0\n",
       "DAY                    0\n",
       "DAY_OF_WEEK            0\n",
       "AIRLINE                0\n",
       "ORIGIN_AIRPORT         0\n",
       "SCHEDULED_DEPARTURE    0\n",
       "SCHEDULED_TIME         0\n",
       "DISTANCE               0\n",
       "SCHEDULED_ARRIVAL      0\n",
       "DEPARTURE_DELAY        0\n",
       "dtype: int64"
      ]
     },
     "execution_count": 6,
     "metadata": {},
     "output_type": "execute_result"
    }
   ],
   "source": [
    "flights_agg.isnull().sum()"
   ]
  },
  {
   "cell_type": "code",
   "execution_count": 7,
   "metadata": {
    "collapsed": false
   },
   "outputs": [],
   "source": [
    "flights_agg['DELAY'] = 'NA'\n",
    "flights_agg['DELAY'] = np.where(flights_agg['DEPARTURE_DELAY'] <= 0, 0, 1) #more efficient"
   ]
  },
  {
   "cell_type": "markdown",
   "metadata": {},
   "source": [
    "## Data Balance"
   ]
  },
  {
   "cell_type": "code",
   "execution_count": 8,
   "metadata": {
    "collapsed": false
   },
   "outputs": [
    {
     "name": "stdout",
     "output_type": "stream",
     "text": [
      "(0.6292264674895167, 0.3707735325104833)\n"
     ]
    }
   ],
   "source": [
    "no_delay = (flights_agg['DELAY'] == 0).sum()\n",
    "nobs = len(flights_agg['DELAY'])\n",
    "no_delay_perc = float(no_delay)/nobs\n",
    "delay_perc = 1 - no_delay_perc\n",
    "print(no_delay_perc, delay_perc)"
   ]
  },
  {
   "cell_type": "markdown",
   "metadata": {},
   "source": [
    "## Undersampling"
   ]
  },
  {
   "cell_type": "code",
   "execution_count": 9,
   "metadata": {
    "collapsed": true
   },
   "outputs": [],
   "source": [
    "delay = nobs - no_delay\n",
    "no_delay_indices = flights_agg[flights_agg.DELAY == 0].index\n",
    "#undersamples no delays to equal same number of delays\n",
    "np.random.seed(5)\n",
    "random_indices = np.random.choice(no_delay_indices, delay, replace=False) \n",
    "no_delay_sample = flights_agg.loc[random_indices]"
   ]
  },
  {
   "cell_type": "code",
   "execution_count": 10,
   "metadata": {
    "collapsed": false
   },
   "outputs": [
    {
     "data": {
      "text/html": [
       "<div>\n",
       "<style scoped>\n",
       "    .dataframe tbody tr th:only-of-type {\n",
       "        vertical-align: middle;\n",
       "    }\n",
       "\n",
       "    .dataframe tbody tr th {\n",
       "        vertical-align: top;\n",
       "    }\n",
       "\n",
       "    .dataframe thead th {\n",
       "        text-align: right;\n",
       "    }\n",
       "</style>\n",
       "<table border=\"1\" class=\"dataframe\">\n",
       "  <thead>\n",
       "    <tr style=\"text-align: right;\">\n",
       "      <th></th>\n",
       "      <th>MONTH</th>\n",
       "      <th>DAY</th>\n",
       "      <th>DAY_OF_WEEK</th>\n",
       "      <th>AIRLINE</th>\n",
       "      <th>ORIGIN_AIRPORT</th>\n",
       "      <th>SCHEDULED_DEPARTURE</th>\n",
       "      <th>SCHEDULED_TIME</th>\n",
       "      <th>DISTANCE</th>\n",
       "      <th>SCHEDULED_ARRIVAL</th>\n",
       "      <th>DEPARTURE_DELAY</th>\n",
       "      <th>DELAY</th>\n",
       "    </tr>\n",
       "  </thead>\n",
       "  <tbody>\n",
       "    <tr>\n",
       "      <th>2483768</th>\n",
       "      <td>6</td>\n",
       "      <td>6</td>\n",
       "      <td>6</td>\n",
       "      <td>EV</td>\n",
       "      <td>DFW</td>\n",
       "      <td>2020</td>\n",
       "      <td>140.0</td>\n",
       "      <td>785</td>\n",
       "      <td>2340</td>\n",
       "      <td>-2.0</td>\n",
       "      <td>0</td>\n",
       "    </tr>\n",
       "    <tr>\n",
       "      <th>4298638</th>\n",
       "      <td>9</td>\n",
       "      <td>25</td>\n",
       "      <td>5</td>\n",
       "      <td>MQ</td>\n",
       "      <td>ORD</td>\n",
       "      <td>1142</td>\n",
       "      <td>73.0</td>\n",
       "      <td>177</td>\n",
       "      <td>1355</td>\n",
       "      <td>-2.0</td>\n",
       "      <td>0</td>\n",
       "    </tr>\n",
       "    <tr>\n",
       "      <th>1440480</th>\n",
       "      <td>4</td>\n",
       "      <td>3</td>\n",
       "      <td>5</td>\n",
       "      <td>WN</td>\n",
       "      <td>ATL</td>\n",
       "      <td>820</td>\n",
       "      <td>275.0</td>\n",
       "      <td>1587</td>\n",
       "      <td>955</td>\n",
       "      <td>-1.0</td>\n",
       "      <td>0</td>\n",
       "    </tr>\n",
       "    <tr>\n",
       "      <th>2073491</th>\n",
       "      <td>5</td>\n",
       "      <td>12</td>\n",
       "      <td>2</td>\n",
       "      <td>DL</td>\n",
       "      <td>DTW</td>\n",
       "      <td>1359</td>\n",
       "      <td>108.0</td>\n",
       "      <td>502</td>\n",
       "      <td>1547</td>\n",
       "      <td>-4.0</td>\n",
       "      <td>0</td>\n",
       "    </tr>\n",
       "    <tr>\n",
       "      <th>4999474</th>\n",
       "      <td>11</td>\n",
       "      <td>9</td>\n",
       "      <td>1</td>\n",
       "      <td>AS</td>\n",
       "      <td>BLI</td>\n",
       "      <td>640</td>\n",
       "      <td>49.0</td>\n",
       "      <td>93</td>\n",
       "      <td>729</td>\n",
       "      <td>-1.0</td>\n",
       "      <td>0</td>\n",
       "    </tr>\n",
       "    <tr>\n",
       "      <th>37497</th>\n",
       "      <td>1</td>\n",
       "      <td>3</td>\n",
       "      <td>6</td>\n",
       "      <td>DL</td>\n",
       "      <td>ATL</td>\n",
       "      <td>1225</td>\n",
       "      <td>102.0</td>\n",
       "      <td>515</td>\n",
       "      <td>1407</td>\n",
       "      <td>-4.0</td>\n",
       "      <td>0</td>\n",
       "    </tr>\n",
       "    <tr>\n",
       "      <th>38622</th>\n",
       "      <td>1</td>\n",
       "      <td>3</td>\n",
       "      <td>6</td>\n",
       "      <td>US</td>\n",
       "      <td>PHL</td>\n",
       "      <td>1340</td>\n",
       "      <td>107.0</td>\n",
       "      <td>449</td>\n",
       "      <td>1527</td>\n",
       "      <td>-4.0</td>\n",
       "      <td>0</td>\n",
       "    </tr>\n",
       "    <tr>\n",
       "      <th>4529081</th>\n",
       "      <td>10</td>\n",
       "      <td>9</td>\n",
       "      <td>5</td>\n",
       "      <td>WN</td>\n",
       "      <td>12889</td>\n",
       "      <td>2135</td>\n",
       "      <td>60.0</td>\n",
       "      <td>258</td>\n",
       "      <td>2235</td>\n",
       "      <td>-2.0</td>\n",
       "      <td>0</td>\n",
       "    </tr>\n",
       "    <tr>\n",
       "      <th>3452835</th>\n",
       "      <td>8</td>\n",
       "      <td>3</td>\n",
       "      <td>1</td>\n",
       "      <td>OO</td>\n",
       "      <td>MSP</td>\n",
       "      <td>1530</td>\n",
       "      <td>247.0</td>\n",
       "      <td>1535</td>\n",
       "      <td>1737</td>\n",
       "      <td>-4.0</td>\n",
       "      <td>0</td>\n",
       "    </tr>\n",
       "    <tr>\n",
       "      <th>2298058</th>\n",
       "      <td>5</td>\n",
       "      <td>26</td>\n",
       "      <td>2</td>\n",
       "      <td>EV</td>\n",
       "      <td>ATL</td>\n",
       "      <td>1449</td>\n",
       "      <td>124.0</td>\n",
       "      <td>692</td>\n",
       "      <td>1653</td>\n",
       "      <td>-5.0</td>\n",
       "      <td>0</td>\n",
       "    </tr>\n",
       "  </tbody>\n",
       "</table>\n",
       "</div>"
      ],
      "text/plain": [
       "         MONTH  DAY  DAY_OF_WEEK AIRLINE ORIGIN_AIRPORT  SCHEDULED_DEPARTURE  \\\n",
       "2483768      6    6            6      EV            DFW                 2020   \n",
       "4298638      9   25            5      MQ            ORD                 1142   \n",
       "1440480      4    3            5      WN            ATL                  820   \n",
       "2073491      5   12            2      DL            DTW                 1359   \n",
       "4999474     11    9            1      AS            BLI                  640   \n",
       "37497        1    3            6      DL            ATL                 1225   \n",
       "38622        1    3            6      US            PHL                 1340   \n",
       "4529081     10    9            5      WN          12889                 2135   \n",
       "3452835      8    3            1      OO            MSP                 1530   \n",
       "2298058      5   26            2      EV            ATL                 1449   \n",
       "\n",
       "         SCHEDULED_TIME  DISTANCE  SCHEDULED_ARRIVAL  DEPARTURE_DELAY  DELAY  \n",
       "2483768           140.0       785               2340             -2.0      0  \n",
       "4298638            73.0       177               1355             -2.0      0  \n",
       "1440480           275.0      1587                955             -1.0      0  \n",
       "2073491           108.0       502               1547             -4.0      0  \n",
       "4999474            49.0        93                729             -1.0      0  \n",
       "37497             102.0       515               1407             -4.0      0  \n",
       "38622             107.0       449               1527             -4.0      0  \n",
       "4529081            60.0       258               2235             -2.0      0  \n",
       "3452835           247.0      1535               1737             -4.0      0  \n",
       "2298058           124.0       692               1653             -5.0      0  "
      ]
     },
     "execution_count": 10,
     "metadata": {},
     "output_type": "execute_result"
    }
   ],
   "source": [
    "no_delay_sample[:10] #Check to make sure it was properly created"
   ]
  },
  {
   "cell_type": "markdown",
   "metadata": {},
   "source": [
    "#### Create balanced sample"
   ]
  },
  {
   "cell_type": "code",
   "execution_count": 11,
   "metadata": {
    "collapsed": true
   },
   "outputs": [],
   "source": [
    "delay_sample = flights_agg[flights_agg.DELAY == 1] \n",
    "flights_agg_balanced = delay_sample.append(no_delay_sample)"
   ]
  },
  {
   "cell_type": "code",
   "execution_count": 14,
   "metadata": {
    "collapsed": true
   },
   "outputs": [],
   "source": [
    "n = int(len(flights_agg_balanced)*0.10)\n",
    "flights_new_bal = flights_agg_balanced.sample(n, random_state = 314)"
   ]
  },
  {
   "cell_type": "markdown",
   "metadata": {},
   "source": [
    "## Double check to make sure new sample is balanced"
   ]
  },
  {
   "cell_type": "code",
   "execution_count": 15,
   "metadata": {
    "collapsed": false
   },
   "outputs": [
    {
     "name": "stdout",
     "output_type": "stream",
     "text": [
      "(0.49846515008597514, 0.5015348499140249)\n"
     ]
    }
   ],
   "source": [
    "no_delay_bal = (flights_new_bal['DELAY'] == 0).sum()\n",
    "no_delay_perc_bal = float(no_delay_bal)/n\n",
    "delay_perc_bal = 1 - no_delay_perc_bal\n",
    "print(no_delay_perc_bal, delay_perc_bal)"
   ]
  },
  {
   "cell_type": "markdown",
   "metadata": {},
   "source": [
    "## Compare original dataset with new sample"
   ]
  },
  {
   "cell_type": "code",
   "execution_count": 16,
   "metadata": {
    "collapsed": false
   },
   "outputs": [
    {
     "data": {
      "text/html": [
       "<div>\n",
       "<style scoped>\n",
       "    .dataframe tbody tr th:only-of-type {\n",
       "        vertical-align: middle;\n",
       "    }\n",
       "\n",
       "    .dataframe tbody tr th {\n",
       "        vertical-align: top;\n",
       "    }\n",
       "\n",
       "    .dataframe thead th {\n",
       "        text-align: right;\n",
       "    }\n",
       "</style>\n",
       "<table border=\"1\" class=\"dataframe\">\n",
       "  <thead>\n",
       "    <tr style=\"text-align: right;\">\n",
       "      <th></th>\n",
       "      <th>MONTH</th>\n",
       "      <th>DAY</th>\n",
       "      <th>DAY_OF_WEEK</th>\n",
       "      <th>SCHEDULED_DEPARTURE</th>\n",
       "      <th>SCHEDULED_TIME</th>\n",
       "      <th>DISTANCE</th>\n",
       "      <th>SCHEDULED_ARRIVAL</th>\n",
       "      <th>DEPARTURE_DELAY</th>\n",
       "      <th>DELAY</th>\n",
       "    </tr>\n",
       "  </thead>\n",
       "  <tbody>\n",
       "    <tr>\n",
       "      <th>count</th>\n",
       "      <td>5.732920e+06</td>\n",
       "      <td>5.732920e+06</td>\n",
       "      <td>5.732920e+06</td>\n",
       "      <td>5.732920e+06</td>\n",
       "      <td>5.732920e+06</td>\n",
       "      <td>5.732920e+06</td>\n",
       "      <td>5.732920e+06</td>\n",
       "      <td>5.732920e+06</td>\n",
       "      <td>5.732920e+06</td>\n",
       "    </tr>\n",
       "    <tr>\n",
       "      <th>mean</th>\n",
       "      <td>6.547214e+00</td>\n",
       "      <td>1.570853e+01</td>\n",
       "      <td>3.932390e+00</td>\n",
       "      <td>1.328963e+03</td>\n",
       "      <td>1.419380e+02</td>\n",
       "      <td>8.247620e+02</td>\n",
       "      <td>1.493375e+03</td>\n",
       "      <td>9.370097e+00</td>\n",
       "      <td>3.707735e-01</td>\n",
       "    </tr>\n",
       "    <tr>\n",
       "      <th>std</th>\n",
       "      <td>3.397111e+00</td>\n",
       "      <td>8.774777e+00</td>\n",
       "      <td>1.986191e+00</td>\n",
       "      <td>4.834725e+02</td>\n",
       "      <td>7.533436e+01</td>\n",
       "      <td>6.087944e+02</td>\n",
       "      <td>5.068416e+02</td>\n",
       "      <td>3.708078e+01</td>\n",
       "      <td>4.830120e-01</td>\n",
       "    </tr>\n",
       "    <tr>\n",
       "      <th>min</th>\n",
       "      <td>1.000000e+00</td>\n",
       "      <td>1.000000e+00</td>\n",
       "      <td>1.000000e+00</td>\n",
       "      <td>1.000000e+00</td>\n",
       "      <td>1.800000e+01</td>\n",
       "      <td>2.100000e+01</td>\n",
       "      <td>1.000000e+00</td>\n",
       "      <td>-8.200000e+01</td>\n",
       "      <td>0.000000e+00</td>\n",
       "    </tr>\n",
       "    <tr>\n",
       "      <th>25%</th>\n",
       "      <td>4.000000e+00</td>\n",
       "      <td>8.000000e+00</td>\n",
       "      <td>2.000000e+00</td>\n",
       "      <td>9.160000e+02</td>\n",
       "      <td>8.600000e+01</td>\n",
       "      <td>3.730000e+02</td>\n",
       "      <td>1.110000e+03</td>\n",
       "      <td>-5.000000e+00</td>\n",
       "      <td>0.000000e+00</td>\n",
       "    </tr>\n",
       "    <tr>\n",
       "      <th>50%</th>\n",
       "      <td>7.000000e+00</td>\n",
       "      <td>1.600000e+01</td>\n",
       "      <td>4.000000e+00</td>\n",
       "      <td>1.325000e+03</td>\n",
       "      <td>1.230000e+02</td>\n",
       "      <td>6.500000e+02</td>\n",
       "      <td>1.520000e+03</td>\n",
       "      <td>-2.000000e+00</td>\n",
       "      <td>0.000000e+00</td>\n",
       "    </tr>\n",
       "    <tr>\n",
       "      <th>75%</th>\n",
       "      <td>9.000000e+00</td>\n",
       "      <td>2.300000e+01</td>\n",
       "      <td>6.000000e+00</td>\n",
       "      <td>1.730000e+03</td>\n",
       "      <td>1.740000e+02</td>\n",
       "      <td>1.065000e+03</td>\n",
       "      <td>1.917000e+03</td>\n",
       "      <td>7.000000e+00</td>\n",
       "      <td>1.000000e+00</td>\n",
       "    </tr>\n",
       "    <tr>\n",
       "      <th>max</th>\n",
       "      <td>1.200000e+01</td>\n",
       "      <td>3.100000e+01</td>\n",
       "      <td>7.000000e+00</td>\n",
       "      <td>2.359000e+03</td>\n",
       "      <td>7.180000e+02</td>\n",
       "      <td>4.983000e+03</td>\n",
       "      <td>2.400000e+03</td>\n",
       "      <td>1.988000e+03</td>\n",
       "      <td>1.000000e+00</td>\n",
       "    </tr>\n",
       "  </tbody>\n",
       "</table>\n",
       "</div>"
      ],
      "text/plain": [
       "              MONTH           DAY   DAY_OF_WEEK  SCHEDULED_DEPARTURE  \\\n",
       "count  5.732920e+06  5.732920e+06  5.732920e+06         5.732920e+06   \n",
       "mean   6.547214e+00  1.570853e+01  3.932390e+00         1.328963e+03   \n",
       "std    3.397111e+00  8.774777e+00  1.986191e+00         4.834725e+02   \n",
       "min    1.000000e+00  1.000000e+00  1.000000e+00         1.000000e+00   \n",
       "25%    4.000000e+00  8.000000e+00  2.000000e+00         9.160000e+02   \n",
       "50%    7.000000e+00  1.600000e+01  4.000000e+00         1.325000e+03   \n",
       "75%    9.000000e+00  2.300000e+01  6.000000e+00         1.730000e+03   \n",
       "max    1.200000e+01  3.100000e+01  7.000000e+00         2.359000e+03   \n",
       "\n",
       "       SCHEDULED_TIME      DISTANCE  SCHEDULED_ARRIVAL  DEPARTURE_DELAY  \\\n",
       "count    5.732920e+06  5.732920e+06       5.732920e+06     5.732920e+06   \n",
       "mean     1.419380e+02  8.247620e+02       1.493375e+03     9.370097e+00   \n",
       "std      7.533436e+01  6.087944e+02       5.068416e+02     3.708078e+01   \n",
       "min      1.800000e+01  2.100000e+01       1.000000e+00    -8.200000e+01   \n",
       "25%      8.600000e+01  3.730000e+02       1.110000e+03    -5.000000e+00   \n",
       "50%      1.230000e+02  6.500000e+02       1.520000e+03    -2.000000e+00   \n",
       "75%      1.740000e+02  1.065000e+03       1.917000e+03     7.000000e+00   \n",
       "max      7.180000e+02  4.983000e+03       2.400000e+03     1.988000e+03   \n",
       "\n",
       "              DELAY  \n",
       "count  5.732920e+06  \n",
       "mean   3.707735e-01  \n",
       "std    4.830120e-01  \n",
       "min    0.000000e+00  \n",
       "25%    0.000000e+00  \n",
       "50%    0.000000e+00  \n",
       "75%    1.000000e+00  \n",
       "max    1.000000e+00  "
      ]
     },
     "execution_count": 16,
     "metadata": {},
     "output_type": "execute_result"
    }
   ],
   "source": [
    "flights_agg.describe()"
   ]
  },
  {
   "cell_type": "code",
   "execution_count": 17,
   "metadata": {
    "collapsed": false
   },
   "outputs": [
    {
     "data": {
      "text/html": [
       "<div>\n",
       "<style scoped>\n",
       "    .dataframe tbody tr th:only-of-type {\n",
       "        vertical-align: middle;\n",
       "    }\n",
       "\n",
       "    .dataframe tbody tr th {\n",
       "        vertical-align: top;\n",
       "    }\n",
       "\n",
       "    .dataframe thead th {\n",
       "        text-align: right;\n",
       "    }\n",
       "</style>\n",
       "<table border=\"1\" class=\"dataframe\">\n",
       "  <thead>\n",
       "    <tr style=\"text-align: right;\">\n",
       "      <th></th>\n",
       "      <th>MONTH</th>\n",
       "      <th>DAY</th>\n",
       "      <th>DAY_OF_WEEK</th>\n",
       "      <th>SCHEDULED_DEPARTURE</th>\n",
       "      <th>SCHEDULED_TIME</th>\n",
       "      <th>DISTANCE</th>\n",
       "      <th>SCHEDULED_ARRIVAL</th>\n",
       "      <th>DEPARTURE_DELAY</th>\n",
       "      <th>DELAY</th>\n",
       "    </tr>\n",
       "  </thead>\n",
       "  <tbody>\n",
       "    <tr>\n",
       "      <th>count</th>\n",
       "      <td>425123.000000</td>\n",
       "      <td>425123.000000</td>\n",
       "      <td>425123.000000</td>\n",
       "      <td>425123.000000</td>\n",
       "      <td>425123.000000</td>\n",
       "      <td>425123.000000</td>\n",
       "      <td>425123.000000</td>\n",
       "      <td>425123.000000</td>\n",
       "      <td>425123.000000</td>\n",
       "    </tr>\n",
       "    <tr>\n",
       "      <th>mean</th>\n",
       "      <td>6.509756</td>\n",
       "      <td>15.695813</td>\n",
       "      <td>3.931145</td>\n",
       "      <td>1354.082113</td>\n",
       "      <td>143.492940</td>\n",
       "      <td>837.196708</td>\n",
       "      <td>1516.922794</td>\n",
       "      <td>14.237451</td>\n",
       "      <td>0.501535</td>\n",
       "    </tr>\n",
       "    <tr>\n",
       "      <th>std</th>\n",
       "      <td>3.400256</td>\n",
       "      <td>8.772097</td>\n",
       "      <td>1.983248</td>\n",
       "      <td>479.301012</td>\n",
       "      <td>76.069767</td>\n",
       "      <td>613.570598</td>\n",
       "      <td>507.189757</td>\n",
       "      <td>41.882479</td>\n",
       "      <td>0.499998</td>\n",
       "    </tr>\n",
       "    <tr>\n",
       "      <th>min</th>\n",
       "      <td>1.000000</td>\n",
       "      <td>1.000000</td>\n",
       "      <td>1.000000</td>\n",
       "      <td>1.000000</td>\n",
       "      <td>18.000000</td>\n",
       "      <td>31.000000</td>\n",
       "      <td>1.000000</td>\n",
       "      <td>-41.000000</td>\n",
       "      <td>0.000000</td>\n",
       "    </tr>\n",
       "    <tr>\n",
       "      <th>25%</th>\n",
       "      <td>4.000000</td>\n",
       "      <td>8.000000</td>\n",
       "      <td>2.000000</td>\n",
       "      <td>944.000000</td>\n",
       "      <td>87.000000</td>\n",
       "      <td>386.000000</td>\n",
       "      <td>1128.000000</td>\n",
       "      <td>-4.000000</td>\n",
       "      <td>0.000000</td>\n",
       "    </tr>\n",
       "    <tr>\n",
       "      <th>50%</th>\n",
       "      <td>7.000000</td>\n",
       "      <td>16.000000</td>\n",
       "      <td>4.000000</td>\n",
       "      <td>1345.000000</td>\n",
       "      <td>125.000000</td>\n",
       "      <td>668.000000</td>\n",
       "      <td>1544.000000</td>\n",
       "      <td>1.000000</td>\n",
       "      <td>1.000000</td>\n",
       "    </tr>\n",
       "    <tr>\n",
       "      <th>75%</th>\n",
       "      <td>9.000000</td>\n",
       "      <td>23.000000</td>\n",
       "      <td>6.000000</td>\n",
       "      <td>1740.000000</td>\n",
       "      <td>175.000000</td>\n",
       "      <td>1075.000000</td>\n",
       "      <td>1930.000000</td>\n",
       "      <td>14.000000</td>\n",
       "      <td>1.000000</td>\n",
       "    </tr>\n",
       "    <tr>\n",
       "      <th>max</th>\n",
       "      <td>12.000000</td>\n",
       "      <td>31.000000</td>\n",
       "      <td>7.000000</td>\n",
       "      <td>2359.000000</td>\n",
       "      <td>718.000000</td>\n",
       "      <td>4983.000000</td>\n",
       "      <td>2359.000000</td>\n",
       "      <td>1523.000000</td>\n",
       "      <td>1.000000</td>\n",
       "    </tr>\n",
       "  </tbody>\n",
       "</table>\n",
       "</div>"
      ],
      "text/plain": [
       "               MONTH            DAY    DAY_OF_WEEK  SCHEDULED_DEPARTURE  \\\n",
       "count  425123.000000  425123.000000  425123.000000        425123.000000   \n",
       "mean        6.509756      15.695813       3.931145          1354.082113   \n",
       "std         3.400256       8.772097       1.983248           479.301012   \n",
       "min         1.000000       1.000000       1.000000             1.000000   \n",
       "25%         4.000000       8.000000       2.000000           944.000000   \n",
       "50%         7.000000      16.000000       4.000000          1345.000000   \n",
       "75%         9.000000      23.000000       6.000000          1740.000000   \n",
       "max        12.000000      31.000000       7.000000          2359.000000   \n",
       "\n",
       "       SCHEDULED_TIME       DISTANCE  SCHEDULED_ARRIVAL  DEPARTURE_DELAY  \\\n",
       "count   425123.000000  425123.000000      425123.000000    425123.000000   \n",
       "mean       143.492940     837.196708        1516.922794        14.237451   \n",
       "std         76.069767     613.570598         507.189757        41.882479   \n",
       "min         18.000000      31.000000           1.000000       -41.000000   \n",
       "25%         87.000000     386.000000        1128.000000        -4.000000   \n",
       "50%        125.000000     668.000000        1544.000000         1.000000   \n",
       "75%        175.000000    1075.000000        1930.000000        14.000000   \n",
       "max        718.000000    4983.000000        2359.000000      1523.000000   \n",
       "\n",
       "               DELAY  \n",
       "count  425123.000000  \n",
       "mean        0.501535  \n",
       "std         0.499998  \n",
       "min         0.000000  \n",
       "25%         0.000000  \n",
       "50%         1.000000  \n",
       "75%         1.000000  \n",
       "max         1.000000  "
      ]
     },
     "execution_count": 17,
     "metadata": {},
     "output_type": "execute_result"
    }
   ],
   "source": [
    "flights_new_bal.describe() #matches"
   ]
  },
  {
   "cell_type": "markdown",
   "metadata": {},
   "source": [
    "#### Build Airport dictionary to replace incomplete IATA airport codes for October"
   ]
  },
  {
   "cell_type": "code",
   "execution_count": 18,
   "metadata": {
    "collapsed": true
   },
   "outputs": [],
   "source": [
    "airport_table = pd.read_csv(\"/mnt/data/airport_codes_clean.csv\")"
   ]
  },
  {
   "cell_type": "code",
   "execution_count": 19,
   "metadata": {
    "collapsed": true
   },
   "outputs": [],
   "source": [
    "oct_flights = flights_new_bal[flights_new_bal.MONTH == 10] \n",
    "flights_new_bal = flights_new_bal[~flights_new_bal[\"MONTH\"].isin([10])]"
   ]
  },
  {
   "cell_type": "code",
   "execution_count": 20,
   "metadata": {
    "collapsed": false
   },
   "outputs": [],
   "source": [
    "oct_flights[\"ORIGIN_AIRPORT\"] = oct_flights[\"ORIGIN_AIRPORT\"].apply(pd.to_numeric)\n",
    "oct_flights[\"ORIGIN_AIRPORT\"].replace(list(airport_table['Code']), \n",
    "                                                                list(airport_table['Airport Code']), inplace=True)\n",
    "flights_new_bal = flights_new_bal.append(oct_flights)"
   ]
  },
  {
   "cell_type": "markdown",
   "metadata": {},
   "source": [
    "#### Give unique airport IATA code unique integer and for airlines"
   ]
  },
  {
   "cell_type": "code",
   "execution_count": 21,
   "metadata": {
    "collapsed": true
   },
   "outputs": [],
   "source": [
    "unique_IATA = flights_new_bal['ORIGIN_AIRPORT'].unique()\n",
    "unique_IATA_id = [x for x in range(1, len(unique_IATA) + 1)]\n",
    "flights_new_bal['ORIGIN_AIRPORT'].replace(unique_IATA, unique_IATA_id, inplace = True)"
   ]
  },
  {
   "cell_type": "code",
   "execution_count": 22,
   "metadata": {
    "collapsed": true
   },
   "outputs": [],
   "source": [
    "unique_airline = flights_new_bal['AIRLINE'].unique()\n",
    "unique_airline_id = [x for x in range(1, len(unique_airline) + 1)]\n",
    "flights_new_bal['AIRLINE'].replace(unique_airline, unique_airline_id, inplace = True)"
   ]
  },
  {
   "cell_type": "markdown",
   "metadata": {},
   "source": [
    "## Initializing SQL Dataframe"
   ]
  },
  {
   "cell_type": "code",
   "execution_count": 24,
   "metadata": {
    "collapsed": true
   },
   "outputs": [],
   "source": [
    "from pyspark import SparkContext\n",
    "from pyspark.sql import SQLContext\n",
    "from pyspark.sql.functions import col\n",
    "\n",
    "sc = SparkContext.getOrCreate()\n",
    "sqlCtx = SQLContext(sc)"
   ]
  },
  {
   "cell_type": "markdown",
   "metadata": {},
   "source": [
    "## Save parquet file"
   ]
  },
  {
   "cell_type": "markdown",
   "metadata": {},
   "source": [
    "#### Saving a parquet file will allow us to read the data directly into a pyspark sql dataframe"
   ]
  },
  {
   "cell_type": "code",
   "execution_count": 25,
   "metadata": {
    "collapsed": false
   },
   "outputs": [
    {
     "name": "stdout",
     "output_type": "stream",
     "text": [
      "+-----+---+-----------+-------+--------------+-------------------+--------------+--------+-----------------+---------------+-----+\n",
      "|MONTH|DAY|DAY_OF_WEEK|AIRLINE|ORIGIN_AIRPORT|SCHEDULED_DEPARTURE|SCHEDULED_TIME|DISTANCE|SCHEDULED_ARRIVAL|DEPARTURE_DELAY|DELAY|\n",
      "+-----+---+-----------+-------+--------------+-------------------+--------------+--------+-----------------+---------------+-----+\n",
      "|    7| 31|          5|      1|             1|               1727|          65.0|     236|             1832|           -4.0|    0|\n",
      "|    6|  5|          5|      2|             2|                720|         104.0|     404|              904|            0.0|    0|\n",
      "|    7| 14|          2|      1|             3|               1245|         133.0|     726|             1458|            0.0|    0|\n",
      "|    5| 26|          2|      3|             4|               1140|         125.0|     669|             1445|           -3.0|    0|\n",
      "|    1|  9|          5|      1|             5|               1040|          47.0|      86|             1127|           -5.0|    0|\n",
      "+-----+---+-----------+-------+--------------+-------------------+--------------+--------+-----------------+---------------+-----+\n",
      "only showing top 5 rows\n",
      "\n"
     ]
    }
   ],
   "source": [
    "full_df = sqlCtx.createDataFrame(flights_new_bal)\n",
    "full_df.show(5)"
   ]
  },
  {
   "cell_type": "code",
   "execution_count": 26,
   "metadata": {
    "collapsed": true
   },
   "outputs": [],
   "source": [
    "full_df.write.parquet(\"/mnt/data/full_df.parquet\")"
   ]
  },
  {
   "cell_type": "code",
   "execution_count": null,
   "metadata": {
    "collapsed": true
   },
   "outputs": [],
   "source": [
    "flight_df = sqlCtx.createDataFrame(flights_new_bal)\n",
    "flight_df.show(5)"
   ]
  },
  {
   "cell_type": "code",
   "execution_count": null,
   "metadata": {
    "collapsed": true
   },
   "outputs": [],
   "source": [
    "flight_df.write.parquet(\"/mnt/data/flight_df.parquet\")"
   ]
  },
  {
   "cell_type": "code",
   "execution_count": 29,
   "metadata": {
    "collapsed": true
   },
   "outputs": [],
   "source": [
    "flightsParquetSample = flights_new_bal.sample(n=1000, random_state=314)"
   ]
  },
  {
   "cell_type": "code",
   "execution_count": 30,
   "metadata": {
    "collapsed": false
   },
   "outputs": [
    {
     "name": "stdout",
     "output_type": "stream",
     "text": [
      "+-----+---+-----------+-------+--------------+-------------------+--------------+--------+-----------------+---------------+-----+\n",
      "|MONTH|DAY|DAY_OF_WEEK|AIRLINE|ORIGIN_AIRPORT|SCHEDULED_DEPARTURE|SCHEDULED_TIME|DISTANCE|SCHEDULED_ARRIVAL|DEPARTURE_DELAY|DELAY|\n",
      "+-----+---+-----------+-------+--------------+-------------------+--------------+--------+-----------------+---------------+-----+\n",
      "|    6| 23|          2|      2|            97|                800|         172.0|    1080|             1052|           -6.0|    0|\n",
      "|    7| 29|          3|      4|             4|                900|         160.0|    1009|              940|            5.0|    1|\n",
      "|    7| 17|          5|      2|            10|               2120|          85.0|     352|             2145|           14.0|    1|\n",
      "|    5| 13|          3|      8|             9|               1419|         118.0|     596|             1617|           -2.0|    0|\n",
      "|    4| 13|          1|      5|            17|               1705|          50.0|     148|             1755|           36.0|    1|\n",
      "+-----+---+-----------+-------+--------------+-------------------+--------------+--------+-----------------+---------------+-----+\n",
      "only showing top 5 rows\n",
      "\n"
     ]
    }
   ],
   "source": [
    "small_df = sqlCtx.createDataFrame(flightsParquetSample)\n",
    "small_df.show(5)"
   ]
  },
  {
   "cell_type": "code",
   "execution_count": 31,
   "metadata": {
    "collapsed": true
   },
   "outputs": [],
   "source": [
    "small_df.write.parquet(\"/mnt/data/small_df.parquet\")"
   ]
  }
 ],
 "metadata": {
  "kernelspec": {
   "display_name": "Python 2",
   "language": "python",
   "name": "python2"
  },
  "language_info": {
   "codemirror_mode": {
    "name": "ipython",
    "version": 2
   },
   "file_extension": ".py",
   "mimetype": "text/x-python",
   "name": "python",
   "nbconvert_exporter": "python",
   "pygments_lexer": "ipython2",
   "version": "2.7.6"
  }
 },
 "nbformat": 4,
 "nbformat_minor": 2
}
